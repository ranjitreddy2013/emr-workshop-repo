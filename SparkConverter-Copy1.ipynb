{
 "cells": [
  {
   "cell_type": "markdown",
   "id": "301a1be1",
   "metadata": {},
   "source": [
    "### Amazon Toys Customer Reviews Data from S3"
   ]
  },
  {
   "cell_type": "code",
   "execution_count": 1,
   "id": "149a80fa",
   "metadata": {},
   "outputs": [
    {
     "data": {
      "application/vnd.jupyter.widget-view+json": {
       "model_id": "3e13b52d5c6e48c3ad632ee89bb69168",
       "version_major": 2,
       "version_minor": 0
      },
      "text/plain": [
       "VBox()"
      ]
     },
     "metadata": {},
     "output_type": "display_data"
    },
    {
     "name": "stdout",
     "output_type": "stream",
     "text": [
      "Starting Spark application\n"
     ]
    },
    {
     "data": {
      "text/html": [
       "<table>\n",
       "<tbody><tr><th>ID</th><th>YARN Application ID</th><th>Kind</th><th>State</th><th>Spark UI</th><th>Driver log</th><th>Current session?</th></tr><tr><td>0</td><td>application_1620440716624_0001</td><td>pyspark</td><td>idle</td><td><a target=\"_blank\" href=\"http://ip-10-0-21-133.ec2.internal:20888/proxy/application_1620440716624_0001/\" class=\"emr-proxy-link j-2EZ2PY4GHJ08N application_1620440716624_0001\" emr-resource=\"j-2EZ2PY4GHJ08N\n",
       "\" application-id=\"application_1620440716624_0001\">Link</a></td><td><a target=\"_blank\" href=\"http://ip-10-0-21-133.ec2.internal:8042/node/containerlogs/container_1620440716624_0001_01_000001/livy\">Link</a></td><td>✔</td></tr></tbody></table>"
      ],
      "text/plain": [
       "<IPython.core.display.HTML object>"
      ]
     },
     "metadata": {},
     "output_type": "display_data"
    },
    {
     "data": {
      "application/vnd.jupyter.widget-view+json": {
       "model_id": "",
       "version_major": 2,
       "version_minor": 0
      },
      "text/plain": [
       "FloatProgress(value=0.0, bar_style='info', description='Progress:', layout=Layout(height='25px', width='50%'),…"
      ]
     },
     "metadata": {},
     "output_type": "display_data"
    },
    {
     "name": "stdout",
     "output_type": "stream",
     "text": [
      "SparkSession available as 'spark'.\n"
     ]
    },
    {
     "data": {
      "application/vnd.jupyter.widget-view+json": {
       "model_id": "",
       "version_major": 2,
       "version_minor": 0
      },
      "text/plain": [
       "FloatProgress(value=0.0, bar_style='info', description='Progress:', layout=Layout(height='25px', width='50%'),…"
      ]
     },
     "metadata": {},
     "output_type": "display_data"
    }
   ],
   "source": [
    "INPUT_LOCATION=\"s3://amazon-reviews-pds/tsv/amazon_reviews_us_Toys_v1_00.tsv.gz\""
   ]
  },
  {
   "cell_type": "markdown",
   "id": "ffe78a5f",
   "metadata": {},
   "source": [
    "### Read Amazon reviews data for Toys"
   ]
  },
  {
   "cell_type": "code",
   "execution_count": 2,
   "id": "eb8efc24",
   "metadata": {},
   "outputs": [
    {
     "data": {
      "application/vnd.jupyter.widget-view+json": {
       "model_id": "7596ecd3e04544af9d59b2a6436fe90e",
       "version_major": 2,
       "version_minor": 0
      },
      "text/plain": [
       "VBox()"
      ]
     },
     "metadata": {},
     "output_type": "display_data"
    },
    {
     "data": {
      "application/vnd.jupyter.widget-view+json": {
       "model_id": "",
       "version_major": 2,
       "version_minor": 0
      },
      "text/plain": [
       "FloatProgress(value=0.0, bar_style='info', description='Progress:', layout=Layout(height='25px', width='50%'),…"
      ]
     },
     "metadata": {},
     "output_type": "display_data"
    }
   ],
   "source": [
    "toysReviewsDF = spark.read.option('sep', '\\t').option('header', 'true').csv(INPUT_LOCATION)"
   ]
  },
  {
   "cell_type": "markdown",
   "id": "9b41978b",
   "metadata": {},
   "source": [
    "### Print the total number of records:"
   ]
  },
  {
   "cell_type": "code",
   "execution_count": 3,
   "id": "bbcb5238",
   "metadata": {},
   "outputs": [
    {
     "data": {
      "application/vnd.jupyter.widget-view+json": {
       "model_id": "c9df13e1f5f64fde89afc90d7774f793",
       "version_major": 2,
       "version_minor": 0
      },
      "text/plain": [
       "VBox()"
      ]
     },
     "metadata": {},
     "output_type": "display_data"
    },
    {
     "data": {
      "application/vnd.jupyter.widget-view+json": {
       "model_id": "",
       "version_major": 2,
       "version_minor": 0
      },
      "text/plain": [
       "FloatProgress(value=0.0, bar_style='info', description='Progress:', layout=Layout(height='25px', width='50%'),…"
      ]
     },
     "metadata": {},
     "output_type": "display_data"
    },
    {
     "name": "stdout",
     "output_type": "stream",
     "text": [
      "4864249"
     ]
    }
   ],
   "source": [
    "print(toysReviewsDF.count())"
   ]
  },
  {
   "cell_type": "markdown",
   "id": "1fd6d659",
   "metadata": {},
   "source": [
    "### Print the schema:"
   ]
  },
  {
   "cell_type": "code",
   "execution_count": 4,
   "id": "56cfa522",
   "metadata": {},
   "outputs": [
    {
     "data": {
      "application/vnd.jupyter.widget-view+json": {
       "model_id": "4d20cbbcc97440469422be90d3e473c8",
       "version_major": 2,
       "version_minor": 0
      },
      "text/plain": [
       "VBox()"
      ]
     },
     "metadata": {},
     "output_type": "display_data"
    },
    {
     "data": {
      "application/vnd.jupyter.widget-view+json": {
       "model_id": "",
       "version_major": 2,
       "version_minor": 0
      },
      "text/plain": [
       "FloatProgress(value=0.0, bar_style='info', description='Progress:', layout=Layout(height='25px', width='50%'),…"
      ]
     },
     "metadata": {},
     "output_type": "display_data"
    },
    {
     "name": "stdout",
     "output_type": "stream",
     "text": [
      "root\n",
      " |-- marketplace: string (nullable = true)\n",
      " |-- customer_id: string (nullable = true)\n",
      " |-- review_id: string (nullable = true)\n",
      " |-- product_id: string (nullable = true)\n",
      " |-- product_parent: string (nullable = true)\n",
      " |-- product_title: string (nullable = true)\n",
      " |-- product_category: string (nullable = true)\n",
      " |-- star_rating: string (nullable = true)\n",
      " |-- helpful_votes: string (nullable = true)\n",
      " |-- total_votes: string (nullable = true)\n",
      " |-- vine: string (nullable = true)\n",
      " |-- verified_purchase: string (nullable = true)\n",
      " |-- review_headline: string (nullable = true)\n",
      " |-- review_body: string (nullable = true)\n",
      " |-- review_date: string (nullable = true)\n",
      "\n",
      "None"
     ]
    }
   ],
   "source": [
    "print(toysReviewsDF.printSchema())"
   ]
  },
  {
   "cell_type": "markdown",
   "id": "3798ae49",
   "metadata": {},
   "source": [
    "### Print few sample records"
   ]
  },
  {
   "cell_type": "code",
   "execution_count": 5,
   "id": "e30dba73",
   "metadata": {},
   "outputs": [
    {
     "data": {
      "application/vnd.jupyter.widget-view+json": {
       "model_id": "76b7452780204ca1a919126d005cb1d0",
       "version_major": 2,
       "version_minor": 0
      },
      "text/plain": [
       "VBox()"
      ]
     },
     "metadata": {},
     "output_type": "display_data"
    },
    {
     "data": {
      "application/vnd.jupyter.widget-view+json": {
       "model_id": "",
       "version_major": 2,
       "version_minor": 0
      },
      "text/plain": [
       "FloatProgress(value=0.0, bar_style='info', description='Progress:', layout=Layout(height='25px', width='50%'),…"
      ]
     },
     "metadata": {},
     "output_type": "display_data"
    },
    {
     "name": "stdout",
     "output_type": "stream",
     "text": [
      "+-----------+-----------+--------------+----------+--------------+--------------------+----------------+-----------+-------------+-----------+----+-----------------+--------------------+--------------------+-----------+\n",
      "|marketplace|customer_id|     review_id|product_id|product_parent|       product_title|product_category|star_rating|helpful_votes|total_votes|vine|verified_purchase|     review_headline|         review_body|review_date|\n",
      "+-----------+-----------+--------------+----------+--------------+--------------------+----------------+-----------+-------------+-----------+----+-----------------+--------------------+--------------------+-----------+\n",
      "|         US|   18778586| RDIJS7QYB6XNR|B00EDBY7X8|     122952789|Monopoly Junior B...|            Toys|          5|            0|          0|   N|                Y|          Five Stars|        Excellent!!!| 2015-08-31|\n",
      "|         US|   24769659|R36ED1U38IELG8|B00D7JFOPC|     952062646|56 Pieces of Wood...|            Toys|          5|            0|          0|   N|                Y|Good quality trac...|Great quality woo...| 2015-08-31|\n",
      "|         US|   44331596| R1UE3RPRGCOLD|B002LHA74O|     818126353|Super Jumbo Playi...|            Toys|          2|            1|          1|   N|                Y|           Two Stars|Cards are not as ...| 2015-08-31|\n",
      "|         US|   23310293|R298788GS6I901|B00ARPLCGY|     261944918|Barbie Doll and F...|            Toys|          5|            0|          0|   N|                Y|my daughter loved...|my daughter loved...| 2015-08-31|\n",
      "|         US|   38745832|  RNX4EXOBBPN5|B00UZOPOFW|     717410439|Emazing Lights eL...|            Toys|          1|            1|          1|   N|                Y|     DONT BUY THESE!|Do not buy these!...| 2015-08-31|\n",
      "|         US|   13394189|R3BPETL222LMIM|B009B7F6CA|     873028700|Melissa & Doug Wa...|            Toys|          5|            0|          0|   N|                Y|          Five Stars|Great item. Pictu...| 2015-08-31|\n",
      "|         US|    2749569|R3SORMPJZO3F2J|B0101EHRSM|     723424342|Big Bang Cosmic P...|            Toys|          3|            2|          2|   N|                Y|         Three Stars|To keep together,...| 2015-08-31|\n",
      "|         US|   41137196|R2RDOJQ0WBZCF6|B00407S11Y|     383363775|Fun Express Insec...|            Toys|          5|            0|          0|   N|                Y|          Five Stars|I was pleased wit...| 2015-08-31|\n",
      "|         US|     433677|R2B8VBEPB4YEZ7|B00FGPU7U2|     780517568|Fisher-Price Octo...|            Toys|          5|            0|          0|   N|                Y|          Five Stars|    Children like it| 2015-08-31|\n",
      "|         US|    1297934|R1CB783I7B0U52|B0013OY0S0|     269360126|Claw Climber Goli...|            Toys|          1|            0|          1|   N|                Y|Shame on the sell...|Showed up not how...| 2015-08-31|\n",
      "|         US|   52006292| R2D90RQQ3V8LH|B00519PJTW|     493486387|100 Foot Multicol...|            Toys|          5|            0|          0|   N|                Y|          Five Stars|Really liked thes...| 2015-08-31|\n",
      "|         US|   32071052|R1Y4ZOUGFMJ327|B001TCY2DO|     459122467|Pig Jumbo Foil Ba...|            Toys|          5|            0|          0|   N|                Y|   Nice huge balloon|Nice huge balloon...| 2015-08-31|\n",
      "|         US|    7360347|R2BUV9QJI2A00X|B00DOQCWF8|     226984155|Minecraft Animal ...|            Toys|          5|            0|          1|   N|                Y|          Five Stars|          Great deal| 2015-08-31|\n",
      "|         US|   11613707| RSUHRJFJIRB3Z|B004C04I4I|     375659886|Disney Baby: Eeyo...|            Toys|          4|            0|          0|   N|                Y|          Four Stars|       As Advertised| 2015-08-31|\n",
      "|         US|   13545982|R1T96CG98BBA15|B00NWGEKBY|     933734136|Team Losi 8IGHT-E...|            Toys|          3|            2|          4|   N|                Y|... servo so expe...|Comes w a 15$ ser...| 2015-08-31|\n",
      "|         US|   43880421| R2ATXF4QQ30YW|B00000JS5S|     341842639|Hot Wheels 48- Ca...|            Toys|          5|            0|          0|   N|                Y|          Five Stars|   awesome ! Thanks!| 2015-08-31|\n",
      "|         US|    1662075|R1YS3DS218NNMD|B00XPWXYDK|     210135375|ZuZo 2.4GHz 4 CH ...|            Toys|          5|            4|          4|   N|                N|The closest relev...|I got this item f...| 2015-08-31|\n",
      "|         US|   18461411|R2SDXLTLF92O0H|B00VPXX92W|     705054378|Teenage Mutant Ni...|            Toys|          5|            0|          0|   N|                Y|          Five Stars|It was a birthday...| 2015-08-31|\n",
      "|         US|   27225859| R4R337CCDWLNG|B00YRA3H4U|     223420727|Franklin Sports M...|            Toys|          3|            0|          1|   Y|                N|Got wrong product...|Got a wrong produ...| 2015-08-31|\n",
      "|         US|   20494593|R32Z6UA4S5Q630|B009T8BSQY|     787701676|Alien Frontiers: ...|            Toys|          1|            0|          0|   N|                Y|         Overpriced.|You need expansio...| 2015-08-31|\n",
      "+-----------+-----------+--------------+----------+--------------+--------------------+----------------+-----------+-------------+-----------+----+-----------------+--------------------+--------------------+-----------+\n",
      "only showing top 20 rows\n",
      "\n",
      "None"
     ]
    }
   ],
   "source": [
    "print(toysReviewsDF.show())"
   ]
  },
  {
   "cell_type": "markdown",
   "id": "622332ff",
   "metadata": {},
   "source": [
    "### Repartition for multiple output files and write out to parquet"
   ]
  },
  {
   "cell_type": "code",
   "execution_count": 6,
   "id": "a66c2c3d",
   "metadata": {},
   "outputs": [
    {
     "data": {
      "application/vnd.jupyter.widget-view+json": {
       "model_id": "4ef15a57ed0143c6a5ac7bec8fa0cf67",
       "version_major": 2,
       "version_minor": 0
      },
      "text/plain": [
       "VBox()"
      ]
     },
     "metadata": {},
     "output_type": "display_data"
    },
    {
     "data": {
      "application/vnd.jupyter.widget-view+json": {
       "model_id": "",
       "version_major": 2,
       "version_minor": 0
      },
      "text/plain": [
       "FloatProgress(value=0.0, bar_style='info', description='Progress:', layout=Layout(height='25px', width='50%'),…"
      ]
     },
     "metadata": {},
     "output_type": "display_data"
    }
   ],
   "source": [
    "#df.repartition(10).write.mode('overwrite').parquet(OUTPUT_LOCATION)"
   ]
  }
 ],
 "metadata": {
  "kernelspec": {
   "display_name": "PySpark",
   "language": "",
   "name": "pysparkkernel"
  },
  "language_info": {
   "codemirror_mode": {
    "name": "python",
    "version": 3
   },
   "mimetype": "text/x-python",
   "name": "pyspark",
   "pygments_lexer": "python3"
  }
 },
 "nbformat": 4,
 "nbformat_minor": 5
}
