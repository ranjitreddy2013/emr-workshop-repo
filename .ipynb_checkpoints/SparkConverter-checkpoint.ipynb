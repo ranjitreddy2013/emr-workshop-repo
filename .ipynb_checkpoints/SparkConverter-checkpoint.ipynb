{
 "cells": [
  {
   "cell_type": "markdown",
   "id": "biblical-briefing",
   "metadata": {},
   "source": [
    "### Amazon Toys Customer Reviews Data from S3"
   ]
  },
  {
   "cell_type": "code",
   "execution_count": null,
   "id": "lyric-papua",
   "metadata": {},
   "outputs": [],
   "source": [
    "INPUT_LOCATION=\"s3://amazon-reviews-pds/tsv/amazon_reviews_us_Toys_v1_00.tsv.gz\""
   ]
  },
  {
   "cell_type": "markdown",
   "id": "diverse-graphic",
   "metadata": {},
   "source": [
    "### Read Amazon reviews data for Toys"
   ]
  },
  {
   "cell_type": "code",
   "execution_count": null,
   "id": "entire-liver",
   "metadata": {},
   "outputs": [],
   "source": [
    "toysReviewsDF = spark.read.option('sep', '\\t').option('header', 'true').csv(INPUT_LOCATION)"
   ]
  },
  {
   "cell_type": "markdown",
   "id": "considerable-version",
   "metadata": {},
   "source": [
    "### Print the total number of records:"
   ]
  },
  {
   "cell_type": "code",
   "execution_count": null,
   "id": "every-portal",
   "metadata": {},
   "outputs": [],
   "source": [
    "print(toysReviewsDF.count())"
   ]
  },
  {
   "cell_type": "markdown",
   "id": "sonic-garbage",
   "metadata": {},
   "source": [
    "### Print the schema:"
   ]
  },
  {
   "cell_type": "code",
   "execution_count": null,
   "id": "front-tattoo",
   "metadata": {},
   "outputs": [],
   "source": [
    "print(toysReviewsDF.printSchema())"
   ]
  },
  {
   "cell_type": "markdown",
   "id": "extra-significance",
   "metadata": {},
   "source": [
    "### Print few sample records"
   ]
  },
  {
   "cell_type": "code",
   "execution_count": null,
   "id": "outside-balance",
   "metadata": {},
   "outputs": [],
   "source": [
    "print(toysReviewsDF.show())"
   ]
  },
  {
   "cell_type": "markdown",
   "id": "governing-pound",
   "metadata": {},
   "source": [
    "### Repartition for multiple output files and write out to parquet"
   ]
  },
  {
   "cell_type": "code",
   "execution_count": null,
   "id": "hungarian-adelaide",
   "metadata": {},
   "outputs": [],
   "source": [
    "#df.repartition(10).write.mode('overwrite').parquet(OUTPUT_LOCATION)"
   ]
  }
 ],
 "metadata": {
  "kernelspec": {
   "display_name": "PySpark",
   "language": "",
   "name": "pysparkkernel"
  },
  "language_info": {
   "codemirror_mode": {
    "name": "python",
    "version": 3
   },
   "mimetype": "text/x-python",
   "name": "pyspark",
   "pygments_lexer": "python3"
  }
 },
 "nbformat": 4,
 "nbformat_minor": 5
}
